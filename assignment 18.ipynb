{
 "cells": [
  {
   "cell_type": "raw",
   "id": "2bd584d3",
   "metadata": {},
   "source": [
    "Given an array of intervals where intervals[i] = [starti, endi], merge all overlapping intervals, and return an array of the non-overlapping intervals that cover all the intervals in "
   ]
  },
  {
   "cell_type": "code",
   "execution_count": 1,
   "id": "df256ebf",
   "metadata": {},
   "outputs": [],
   "source": [
    "def merge_intervals(intervals):\n",
    "    intervals.sort(key=lambda x: x[0])\n",
    "    merged_intervals = []\n",
    "\n",
    "    for interval in intervals:\n",
    "        if not merged_intervals or interval[0] > merged_intervals[-1][1]:\n",
    "            merged_intervals.append(interval)\n",
    "        else:\n",
    "            merged_intervals[-1][1] = max(merged_intervals[-1][1], interval[1])\n",
    "\n",
    "    return merged_intervals\n"
   ]
  },
  {
   "cell_type": "code",
   "execution_count": 2,
   "id": "51e83a33",
   "metadata": {},
   "outputs": [
    {
     "name": "stdout",
     "output_type": "stream",
     "text": [
      "Merged intervals: [[1, 6], [8, 10], [15, 18]]\n"
     ]
    }
   ],
   "source": [
    "intervals = [[1, 3], [2, 6], [8, 10], [15, 18]]\n",
    "merged = merge_intervals(intervals)\n",
    "print(\"Merged intervals:\", merged)\n"
   ]
  },
  {
   "cell_type": "raw",
   "id": "bdefe9f6",
   "metadata": {},
   "source": [
    "💡 2. **Sort Colors**\n",
    "\n",
    "Given an array `nums` with `n` objects colored red, white, or blue, sort them **[in-place](https://en.wikipedia.org/wiki/In-place_algorithm)** so that objects of the same color are adjacent, with the colors in the order red, white, and blue.\n",
    "\n",
    "We will use the integers `0`, `1`, and `2` to represent the color red, white, and blue, respectively.\n",
    "\n",
    "You must solve this problem without using the library's sort function.\n",
    "\n",
    "</aside>"
   ]
  },
  {
   "cell_type": "code",
   "execution_count": 3,
   "id": "ddb31abd",
   "metadata": {},
   "outputs": [],
   "source": [
    "def sortColors(nums):\n",
    "    low = 0\n",
    "    mid = 0\n",
    "    high = len(nums) - 1\n",
    "\n",
    "    while mid <= high:\n",
    "        if nums[mid] == 0:\n",
    "            nums[low], nums[mid] = nums[mid], nums[low]\n",
    "            low += 1\n",
    "            mid += 1\n",
    "        elif nums[mid] == 1:\n",
    "            mid += 1\n",
    "        else:\n",
    "            nums[mid], nums[high] = nums[high], nums[mid]\n",
    "            high -= 1\n",
    "\n",
    "    return nums\n"
   ]
  },
  {
   "cell_type": "code",
   "execution_count": 4,
   "id": "f14a16db",
   "metadata": {},
   "outputs": [
    {
     "name": "stdout",
     "output_type": "stream",
     "text": [
      "Sorted colors: [0, 0, 1, 1, 2, 2]\n"
     ]
    }
   ],
   "source": [
    "nums = [2, 0, 2, 1, 1, 0]\n",
    "sorted_nums = sortColors(nums)\n",
    "print(\"Sorted colors:\", sorted_nums)\n"
   ]
  },
  {
   "cell_type": "raw",
   "id": "88f045bc",
   "metadata": {},
   "source": [
    "<aside>\n",
    "💡  **First Bad Version Solution**\n",
    "\n",
    "You are a product manager and currently leading a team to develop a new product. Unfortunately, the latest version of your product fails the quality check. Since each version is developed based on the previous version, all the versions after a bad version are also bad.\n",
    "\n",
    "Suppose you have `n` versions `[1, 2, ..., n]` and you want to find out the first bad one, which causes all the following ones to be bad.\n",
    "\n",
    "You are given an API `bool isBadVersion(version)` which returns whether `version` is bad. Implement a function to find the first bad version. You should minimize the number of calls to the API\n",
    "\n",
    "</aside>"
   ]
  },
  {
   "cell_type": "code",
   "execution_count": 5,
   "id": "b321d986",
   "metadata": {},
   "outputs": [],
   "source": [
    "def firstBadVersion(n):\n",
    "    start = 1\n",
    "    end = n\n",
    "\n",
    "    while start < end:\n",
    "        mid = start + (end - start) // 2\n",
    "        if isBadVersion(mid):\n",
    "            end = mid\n",
    "        else:\n",
    "            start = mid + 1\n",
    "\n",
    "    return start\n"
   ]
  },
  {
   "cell_type": "code",
   "execution_count": 6,
   "id": "75515c63",
   "metadata": {},
   "outputs": [
    {
     "name": "stdout",
     "output_type": "stream",
     "text": [
      "First bad version: 4\n"
     ]
    }
   ],
   "source": [
    "n = 10\n",
    "bad_version = 4\n",
    "\n",
    "def isBadVersion(version):\n",
    "    return version >= bad_version\n",
    "\n",
    "first_bad = firstBadVersion(n)\n",
    "print(\"First bad version:\", first_bad)\n"
   ]
  },
  {
   "cell_type": "raw",
   "id": "822a832c",
   "metadata": {},
   "source": [
    "Given an integer array `nums`, return *the maximum difference between two successive elements in its sorted form*. If the array contains less than two elements, return `0`.\n",
    "\n",
    "You must write an algorithm that runs in linear time and uses linear extra space."
   ]
  },
  {
   "cell_type": "code",
   "execution_count": null,
   "id": "452b0ca3",
   "metadata": {},
   "outputs": [],
   "source": []
  },
  {
   "cell_type": "raw",
   "id": "f4cd4925",
   "metadata": {},
   "source": [
    "<aside>\n",
    "💡 5. **Contains Duplicate**\n",
    "\n",
    "Given an integer array `nums`, return `true` if any value appears **at least twice** in the array, and return `false` if every element is distinct.\n",
    "\n",
    "</aside>"
   ]
  },
  {
   "cell_type": "code",
   "execution_count": 7,
   "id": "5349b312",
   "metadata": {},
   "outputs": [],
   "source": [
    "def maximumGap(nums):\n",
    "    if len(nums) < 2:\n",
    "        return 0\n",
    "\n",
    "    min_val = min(nums)\n",
    "    max_val = max(nums)\n",
    "    n = len(nums)\n",
    "    gap = max(1, (max_val - min_val) // (n - 1))\n",
    "\n",
    "    min_bucket = [float('inf')] * (n - 1)\n",
    "    max_bucket = [float('-inf')] * (n - 1)\n",
    "\n",
    "    for num in nums:\n",
    "        if num == min_val or num == max_val:\n",
    "            continue\n",
    "        index = (num - min_val) // gap\n",
    "        min_bucket[index] = min(min_bucket[index], num)\n",
    "        max_bucket[index] = max(max_bucket[index], num)\n",
    "\n",
    "    prev_max = min_val\n",
    "    max_diff = 0\n",
    "\n",
    "    for i in range(n - 1):\n",
    "        if min_bucket[i] == float('inf'):\n",
    "            continue\n",
    "        max_diff = max(max_diff, min_bucket[i] - prev_max)\n",
    "        prev_max = max_bucket[i]\n",
    "\n",
    "    max_diff = max(max_diff, max_val - prev_max)\n",
    "\n",
    "    return max_diff\n"
   ]
  },
  {
   "cell_type": "code",
   "execution_count": 8,
   "id": "e05aa589",
   "metadata": {},
   "outputs": [
    {
     "name": "stdout",
     "output_type": "stream",
     "text": [
      "Maximum difference: 3\n"
     ]
    }
   ],
   "source": [
    "nums = [3, 6, 9, 1]\n",
    "max_diff = maximumGap(nums)\n",
    "print(\"Maximum difference:\", max_diff)\n"
   ]
  },
  {
   "cell_type": "raw",
   "id": "679853d2",
   "metadata": {},
   "source": [
    "Given an integer array `nums`, return `true` if any value appears **at least twice** in the array, and return `false` if every element is distinct.\n"
   ]
  },
  {
   "cell_type": "code",
   "execution_count": 9,
   "id": "c463323f",
   "metadata": {},
   "outputs": [],
   "source": [
    "def containsDuplicate(nums):\n",
    "    seen = set()\n",
    "\n",
    "    for num in nums:\n",
    "        if num in seen:\n",
    "            return True\n",
    "        seen.add(num)\n",
    "\n",
    "    return False\n"
   ]
  },
  {
   "cell_type": "code",
   "execution_count": 10,
   "id": "aea8b3a1",
   "metadata": {},
   "outputs": [
    {
     "name": "stdout",
     "output_type": "stream",
     "text": [
      "Contains duplicate: True\n"
     ]
    }
   ],
   "source": [
    "nums = [1, 2, 3, 1]\n",
    "contains_dup = containsDuplicate(nums)\n",
    "print(\"Contains duplicate:\", contains_dup)\n"
   ]
  },
  {
   "cell_type": "raw",
   "id": "35eff007",
   "metadata": {},
   "source": [
    "<aside>\n",
    "💡  **Minimum Number of Arrows to Burst Balloons**\n",
    "\n",
    "There are some spherical balloons taped onto a flat wall that represents the XY-plane. The balloons are represented as a 2D integer array `points` where `points[i] = [xstart, xend]` denotes a balloon whose **horizontal diameter** stretches between `xstart` and `xend`. You do not know the exact y-coordinates of the balloons.\n",
    "\n",
    "Arrows can be shot up **directly vertically** (in the positive y-direction) from different points along the x-axis. A balloon with `xstart` and `xend` is **burst** by an arrow shot at `x` if `xstart <= x <= xend`. There is **no limit** to the number of arrows that can be shot. A shot arrow keeps traveling up infinitely, bursting any balloons in its path.\n",
    "\n",
    "Given the array `points`, return *the **minimum** number of arrows that must be shot to burst all balloons*.\n",
    "\n",
    "</aside>"
   ]
  },
  {
   "cell_type": "code",
   "execution_count": 11,
   "id": "41f4256a",
   "metadata": {},
   "outputs": [],
   "source": [
    "def findMinArrowShots(points):\n",
    "    points.sort(key=lambda x: x[1])\n",
    "    end = points[0][1]\n",
    "    arrows = 1\n",
    "\n",
    "    for i in range(1, len(points)):\n",
    "        if points[i][0] > end:\n",
    "            arrows += 1\n",
    "            end = points[i][1]\n",
    "\n",
    "    return arrows\n"
   ]
  },
  {
   "cell_type": "code",
   "execution_count": 12,
   "id": "438ef188",
   "metadata": {},
   "outputs": [
    {
     "name": "stdout",
     "output_type": "stream",
     "text": [
      "Minimum number of arrows: 2\n"
     ]
    }
   ],
   "source": [
    "points = [[10,16], [2,8], [1,6], [7,12]]\n",
    "min_arrows = findMinArrowShots(points)\n",
    "print(\"Minimum number of arrows:\", min_arrows)\n"
   ]
  },
  {
   "cell_type": "raw",
   "id": "1fe84f4f",
   "metadata": {},
   "source": [
    "<aside>\n",
    "💡 **Longest Increasing Subsequence**\n",
    "\n",
    "Given an integer array `nums`, return *the length of the longest **strictly increasing***\n",
    "\n",
    "</aside>"
   ]
  },
  {
   "cell_type": "code",
   "execution_count": 13,
   "id": "bfe2debe",
   "metadata": {},
   "outputs": [],
   "source": [
    "def lengthOfLIS(nums):\n",
    "    n = len(nums)\n",
    "    dp = [1] * n\n",
    "\n",
    "    for i in range(1, n):\n",
    "        for j in range(i):\n",
    "            if nums[i] > nums[j]:\n",
    "                dp[i] = max(dp[i], dp[j] + 1)\n",
    "\n",
    "    return max(dp)\n"
   ]
  },
  {
   "cell_type": "code",
   "execution_count": 14,
   "id": "0854140e",
   "metadata": {},
   "outputs": [
    {
     "name": "stdout",
     "output_type": "stream",
     "text": [
      "Length of the longest increasing subsequence: 4\n"
     ]
    }
   ],
   "source": [
    "nums = [10, 9, 2, 5, 3, 7, 101, 18]\n",
    "length = lengthOfLIS(nums)\n",
    "print(\"Length of the longest increasing subsequence:\", length)\n"
   ]
  },
  {
   "cell_type": "raw",
   "id": "c3a812cc",
   "metadata": {},
   "source": [
    "<aside>\n",
    "💡 **Pattern**\n",
    "\n",
    "Given an array of `n` integers `nums`, a **132 pattern** is a subsequence of three integers `nums[i]`, `nums[j]` and `nums[k]` such that `i < j < k` and `nums[i] < nums[k] < nums[j]`.\n",
    "\n",
    "Return `true` *if there is a **132 pattern** in* `nums`*, otherwise, return* `false`*.*\n",
    "\n",
    "</aside>"
   ]
  },
  {
   "cell_type": "code",
   "execution_count": 15,
   "id": "0bd5886e",
   "metadata": {},
   "outputs": [],
   "source": [
    "def find132pattern(nums):\n",
    "    stack = []\n",
    "    mid = float('-inf')\n",
    "\n",
    "    for num in reversed(nums):\n",
    "        if num < mid:\n",
    "            return True\n",
    "        while stack and num > stack[-1]:\n",
    "            mid = stack.pop()\n",
    "        stack.append(num)\n",
    "\n",
    "    return False\n"
   ]
  },
  {
   "cell_type": "code",
   "execution_count": 16,
   "id": "bea294ee",
   "metadata": {},
   "outputs": [
    {
     "name": "stdout",
     "output_type": "stream",
     "text": [
      "Contains 132 pattern: False\n"
     ]
    }
   ],
   "source": [
    "nums = [1, 2, 3, 4]\n",
    "contains_132 = find132pattern(nums)\n",
    "print(\"Contains 132 pattern:\", contains_132)\n"
   ]
  },
  {
   "cell_type": "code",
   "execution_count": null,
   "id": "f9c36b0a",
   "metadata": {},
   "outputs": [],
   "source": []
  }
 ],
 "metadata": {
  "kernelspec": {
   "display_name": "Python 3 (ipykernel)",
   "language": "python",
   "name": "python3"
  },
  "language_info": {
   "codemirror_mode": {
    "name": "ipython",
    "version": 3
   },
   "file_extension": ".py",
   "mimetype": "text/x-python",
   "name": "python",
   "nbconvert_exporter": "python",
   "pygments_lexer": "ipython3",
   "version": "3.9.12"
  }
 },
 "nbformat": 4,
 "nbformat_minor": 5
}
