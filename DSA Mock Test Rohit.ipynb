{
 "cells": [
  {
   "cell_type": "markdown",
   "id": "7bc607f7",
   "metadata": {},
   "source": [
    "Move Zeroes\n",
    "Given an integer array nums, move all 0's to the end of it while maintaining the relative order of the non-zero elements.\n",
    "\n",
    "Note that you must do this in-place without making a copy of the array.\n",
    "\n",
    "Example 1:\n",
    "Input: nums = [0,1,0,3,12]\n",
    "Output: [1,3,12,0,0]\n",
    "\n",
    "Example 2\n",
    "Input: nums = [0]\n",
    "Output: [0]\n",
    "\n",
    "Constraints:\n",
    "a. 1 <= nums.length <= 10^4\n",
    "b. -2^31 <= nums[i] <= 2^31 - 1\n",
    "\n",
    "Note: Create a GitHub file for the solution and add the file link the the answer section below."
   ]
  },
  {
   "cell_type": "code",
   "execution_count": null,
   "id": "50b265d8",
   "metadata": {},
   "outputs": [],
   "source": [
    "def Move_zeros(nums):\n",
    "    a=0\n",
    "    while(a<=len(nums)-1):\n",
    "        if(nums[a]==0):\n",
    "            nums.pop(a)\n",
    "            nums.append(0)\n",
    "        a+=1\n",
    "    return nums\n",
    "\n",
    "print(Move_zeros([0,1,0,3,12]))"
   ]
  },
  {
   "cell_type": "markdown",
   "id": "9823dae9",
   "metadata": {},
   "source": [
    "First Unique Character in a String\n",
    "\n",
    "Given a string s, find the first non-repeating character in it and return its index. If it does not exist, return -1.\n",
    "\n",
    "Example 1:\n",
    "Input: s = \"leetcode\"\n",
    "Output: 0\n",
    "\n",
    "Example 2:\n",
    "Input: s = \"loveleetcode\"\n",
    "Output: 2\n",
    "\n",
    "Example 3:\n",
    "Input: s = \"aabb\"\n",
    "Output: -1\n",
    "\n",
    "Constraints:\n",
    "a. 1 <= s.length <= 10^5\n",
    "b. s consists of only lowercase English letters.\n",
    "\n",
    "Note: Create a GitHub file for the solution and add the file link the the answer section below."
   ]
  },
  {
   "cell_type": "code",
   "execution_count": null,
   "id": "7e3037bb",
   "metadata": {},
   "outputs": [],
   "source": [
    "def UniqeChar(nums):\n",
    "    ans=0\n",
    "    for i in range(len(nums)):\n",
    "        if(nums.count(nums[i])==1):\n",
    "            return i\n",
    "        \n",
    "\n",
    "print(UniqeChar(\"loveleetcode\"))"
   ]
  }
 ],
 "metadata": {
  "kernelspec": {
   "display_name": "Python 3 (ipykernel)",
   "language": "python",
   "name": "python3"
  },
  "language_info": {
   "codemirror_mode": {
    "name": "ipython",
    "version": 3
   },
   "file_extension": ".py",
   "mimetype": "text/x-python",
   "name": "python",
   "nbconvert_exporter": "python",
   "pygments_lexer": "ipython3",
   "version": "3.9.12"
  }
 },
 "nbformat": 4,
 "nbformat_minor": 5
}
