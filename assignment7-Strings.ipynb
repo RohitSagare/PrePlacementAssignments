{
 "cells": [
  {
   "cell_type": "markdown",
   "id": "ccfbd71b",
   "metadata": {},
   "source": [
    "💡 **Question 1**\n",
    "\n",
    "Given two strings s and t, *determine if they are isomorphic*.\n",
    "\n",
    "Two strings s and t are isomorphic if the characters in s can be replaced to get t.\n",
    "\n",
    "All occurrences of a character must be replaced with another character while preserving the order of characters. No two characters may map to the same character, but a character may map to itself.\n",
    "\n",
    "**Example 1:**\n",
    "\n",
    "**Input:** s = \"egg\", t = \"add\"\n",
    "\n",
    "**Output:** true"
   ]
  },
  {
   "cell_type": "code",
   "execution_count": 1,
   "id": "f8e6feab",
   "metadata": {},
   "outputs": [],
   "source": [
    "def is_isomorphic(s, t):\n",
    "    if len(s) != len(t):\n",
    "        return False\n",
    "\n",
    "    s_to_t = {}\n",
    "    t_to_s = {}\n",
    "\n",
    "    for s_char, t_char in zip(s, t):\n",
    "        if s_char not in s_to_t and t_char not in t_to_s:\n",
    "            s_to_t[s_char] = t_char\n",
    "            t_to_s[t_char] = s_char\n",
    "        elif s_to_t.get(s_char) != t_char or t_to_s.get(t_char) != s_char:\n",
    "            return False\n",
    "\n",
    "    return True\n"
   ]
  },
  {
   "cell_type": "markdown",
   "id": "0b09f756",
   "metadata": {},
   "source": [
    "💡 **Question 2**\n",
    "\n",
    "Given a string num which represents an integer, return true *if* num *is a **strobogrammatic number***.\n",
    "\n",
    "A **strobogrammatic number** is a number that looks the same when rotated 180 degrees (looked at upside down).\n",
    "\n",
    "**Example 1:**\n",
    "\n",
    "**Input:** num = \"69\"\n",
    "\n",
    "**Output:**\n",
    "\n",
    "true"
   ]
  },
  {
   "cell_type": "code",
   "execution_count": 2,
   "id": "6cce6bd0",
   "metadata": {},
   "outputs": [],
   "source": [
    "def is_strobogrammatic(num):\n",
    "    rotated = \"\"\n",
    "\n",
    "    for digit in num:\n",
    "        if digit in \"018\":\n",
    "            rotated += digit\n",
    "        elif digit == \"6\":\n",
    "            rotated += \"9\"\n",
    "        elif digit == \"9\":\n",
    "            rotated += \"6\"\n",
    "        else:\n",
    "            return False\n",
    "\n",
    "    return rotated == num[::-1]"
   ]
  },
  {
   "cell_type": "markdown",
   "id": "ac495e8e",
   "metadata": {},
   "source": [
    "💡 **Question 3**\n",
    "\n",
    "Given two non-negative integers, num1 and num2 represented as string, return *the sum of* num1 *and* num2 *as a string*.\n",
    "\n",
    "You must solve the problem without using any built-in library for handling large integers (such as BigInteger). You must also not convert the inputs to integers directly.\n",
    "\n",
    "**Example 1:**\n",
    "\n",
    "**Input:** num1 = \"11\", num2 = \"123\"\n",
    "\n",
    "**Output:**\n",
    "\n",
    "\"134\""
   ]
  },
  {
   "cell_type": "code",
   "execution_count": 3,
   "id": "ba70b46f",
   "metadata": {},
   "outputs": [],
   "source": [
    "def addStrings(num1, num2):\n",
    "    result = \"\"\n",
    "    carry = 0\n",
    "    idx = 0\n",
    "\n",
    "    while idx < len(num1) or idx < len(num2) or carry:\n",
    "        digit1 = int(num1[-1 - idx]) if idx < len(num1) else 0\n",
    "        digit2 = int(num2[-1 - idx]) if idx < len(num2) else 0\n",
    "\n",
    "        digit_sum = digit1 + digit2 + carry\n",
    "        carry = digit_sum // 10\n",
    "        result += str(digit_sum % 10)\n",
    "\n",
    "        idx += 1\n",
    "\n",
    "    if carry:\n",
    "        result += str(carry)\n",
    "\n",
    "    return result[::-1]"
   ]
  },
  {
   "cell_type": "markdown",
   "id": "d58e6aef",
   "metadata": {},
   "source": [
    "💡 **Question 4**\n",
    "\n",
    "Given a string s, reverse the order of characters in each word within a sentence while still preserving whitespace and initial word order.\n",
    "\n",
    "**Example 1:**\n",
    "\n",
    "**Input:** s = \"Let's take LeetCode contest\"\n",
    "\n",
    "**Output:** \"s'teL ekat edoCteeL tsetnoc\""
   ]
  },
  {
   "cell_type": "code",
   "execution_count": 4,
   "id": "8d83748e",
   "metadata": {},
   "outputs": [],
   "source": [
    "def reverseWords(s):\n",
    "    words = s.split()\n",
    "\n",
    "    for i in range(len(words)):\n",
    "        words[i] = words[i][::-1]\n",
    "\n",
    "    result = ' '.join(words)\n",
    "    return result"
   ]
  },
  {
   "cell_type": "markdown",
   "id": "5c3162bf",
   "metadata": {},
   "source": [
    "💡 **Question 5**\n",
    "\n",
    "Given a string s and an integer k, reverse the first k characters for every 2k characters counting from the start of the string.\n",
    "\n",
    "If there are fewer than k characters left, reverse all of them. If there are less than 2k but greater than or equal to k characters, then reverse the first k characters and leave the other as original.\n",
    "\n",
    "**Example 1:**\n",
    "\n",
    "**Input:** s = \"abcdefg\", k = 2\n",
    "\n",
    "**Output:**\n",
    "\n",
    "\"bacdfeg\""
   ]
  },
  {
   "cell_type": "code",
   "execution_count": 5,
   "id": "f6d500e5",
   "metadata": {},
   "outputs": [],
   "source": [
    "def reverseStr(s, k):\n",
    "    chars = list(s)\n",
    "\n",
    "    for i in range(0, len(chars), 2 * k):\n",
    "        start = i\n",
    "        end = min(i + k - 1, len(chars) - 1)\n",
    "\n",
    "        while start < end:\n",
    "            chars[start], chars[end] = chars[end], chars[start]\n",
    "            start += 1\n",
    "            end -= 1\n",
    "\n",
    "    return ''.join(chars)"
   ]
  },
  {
   "cell_type": "markdown",
   "id": "bf6a5f14",
   "metadata": {},
   "source": [
    "💡 **Question 6**\n",
    "\n",
    "Given two strings s and goal, return true *if and only if* s *can become* goal *after some number of **shifts** on* s.\n",
    "\n",
    "A **shift** on s consists of moving the leftmost character of s to the rightmost position.\n",
    "\n",
    "- For example, if s = \"abcde\", then it will be \"bcdea\" after one shift.\n",
    "\n",
    "**Example 1:**\n",
    "\n",
    "**Input:** s = \"abcde\", goal = \"cdeab\"\n",
    "\n",
    "**Output:**\n",
    "\n",
    "true\n"
   ]
  },
  {
   "cell_type": "code",
   "execution_count": 6,
   "id": "e517ca75",
   "metadata": {},
   "outputs": [],
   "source": [
    "def rotateString(s, goal):\n",
    "    if len(s) != len(goal):\n",
    "        return False\n",
    "\n",
    "    concatenated = s + s\n",
    "\n",
    "    return goal in concatenated"
   ]
  },
  {
   "cell_type": "markdown",
   "id": "51bf66a9",
   "metadata": {},
   "source": [
    "💡 **Question 7**\n",
    "\n",
    "Given two strings s and t, return true *if they are equal when both are typed into empty text editors*. '#' means a backspace character.\n",
    "\n",
    "Note that after backspacing an empty text, the text will continue empty.\n",
    "\n",
    "**Example 1:**\n",
    "\n",
    "**Input:** s = \"ab#c\", t = \"ad#c\"\n",
    "\n",
    "**Output:** true\n",
    "\n",
    "**Explanation:**\n",
    "\n",
    "Both s and t become \"ac\"."
   ]
  },
  {
   "cell_type": "code",
   "execution_count": 7,
   "id": "4cf8edb0",
   "metadata": {},
   "outputs": [],
   "source": [
    "def backspaceCompare(s, t):\n",
    "    s_stack = []\n",
    "    t_stack = []\n",
    "\n",
    "    for ch in s:\n",
    "        if ch != '#':\n",
    "            s_stack.append(ch)\n",
    "        elif s_stack:\n",
    "            s_stack.pop()\n",
    "\n",
    "    for ch in t:\n",
    "        if ch != '#':\n",
    "            t_stack.append(ch)\n",
    "        elif t_stack:\n",
    "            t_stack.pop()\n",
    "\n",
    "    return s_stack == t_stack\n"
   ]
  },
  {
   "cell_type": "markdown",
   "id": "e7d7bb99",
   "metadata": {},
   "source": [
    "\n",
    "💡 **Question 8**\n",
    "\n",
    "You are given an array coordinates, coordinates[i] = [x, y], where [x, y] represents the coordinate of a point. Check if these points make a straight line in the XY plane.\n"
   ]
  },
  {
   "cell_type": "code",
   "execution_count": 8,
   "id": "d2185841",
   "metadata": {},
   "outputs": [],
   "source": [
    "def checkStraightLine(coordinates):\n",
    "    if len(coordinates) <= 2:\n",
    "        return True\n",
    "\n",
    "    x1, y1 = coordinates[0]\n",
    "    x2, y2 = coordinates[1]\n",
    "\n",
    "    if x2 - x1 == 0:\n",
    "        original_slope = float('inf')\n",
    "    else:\n",
    "        original_slope = (y2 - y1) / (x2 - x1)\n",
    "\n",
    "    for i in range(2, len(coordinates)):\n",
    "        x, y = coordinates[i]\n",
    "        if x - x1 == 0:\n",
    "            current_slope = float('inf')\n",
    "        else:\n",
    "            current_slope = (y - y1) / (x - x1)\n",
    "\n",
    "        if current_slope != original_slope:\n",
    "            return False\n",
    "\n",
    "    return True"
   ]
  },
  {
   "cell_type": "code",
   "execution_count": null,
   "id": "fffa783e",
   "metadata": {},
   "outputs": [],
   "source": []
  }
 ],
 "metadata": {
  "kernelspec": {
   "display_name": "Python 3 (ipykernel)",
   "language": "python",
   "name": "python3"
  },
  "language_info": {
   "codemirror_mode": {
    "name": "ipython",
    "version": 3
   },
   "file_extension": ".py",
   "mimetype": "text/x-python",
   "name": "python",
   "nbconvert_exporter": "python",
   "pygments_lexer": "ipython3",
   "version": "3.9.7"
  }
 },
 "nbformat": 4,
 "nbformat_minor": 5
}
