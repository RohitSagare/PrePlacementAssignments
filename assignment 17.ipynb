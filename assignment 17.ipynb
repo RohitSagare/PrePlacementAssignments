{
 "cells": [
  {
   "cell_type": "raw",
   "id": "0368f79b",
   "metadata": {},
   "source": [
    "Given a string s, find the first non-repeating character in it and return its index. If it does not exist, return -1."
   ]
  },
  {
   "cell_type": "code",
   "execution_count": 1,
   "id": "82e65a8d",
   "metadata": {},
   "outputs": [],
   "source": [
    "def first_uniq_char(s):\n",
    "    char_count = {}\n",
    "\n",
    "    # Count the frequency of each character\n",
    "    for char in s:\n",
    "        char_count[char] = char_count.get(char, 0) + 1\n",
    "\n",
    "    # Find the first non-repeating character\n",
    "    for i, char in enumerate(s):\n",
    "        if char_count[char] == 1:\n",
    "            return i\n",
    "\n",
    "    return -1\n"
   ]
  },
  {
   "cell_type": "code",
   "execution_count": 2,
   "id": "d4ee91c9",
   "metadata": {},
   "outputs": [
    {
     "name": "stdout",
     "output_type": "stream",
     "text": [
      "Index of the first non-repeating character: 0\n"
     ]
    }
   ],
   "source": [
    "s = \"leetcode\"\n",
    "index = first_uniq_char(s)\n",
    "print(\"Index of the first non-repeating character:\", index)\n"
   ]
  },
  {
   "cell_type": "raw",
   "id": "57d0c0a5",
   "metadata": {},
   "source": [
    "Given a **circular integer array** `nums` of length `n`, return *the maximum possible sum of a non-empty **subarray** of* `nums`.\n",
    "\n",
    "A **circular array** means the end of the array connects to the beginning of the array. Formally, the next element of `nums[i]` is `nums[(i + 1) % n]` and the previous element of `nums[i]` is `nums[(i - 1 + n) % n]`.\n",
    "\n",
    "A **subarray** may only include each element of the fixed buffer `nums` at most once. Formally, for a subarray `nums[i], nums[i + 1], ..., nums[j]`, there does not exist `i <= k1`, `k2 <= j` with `k1 % n == k2 % n`."
   ]
  },
  {
   "cell_type": "code",
   "execution_count": 3,
   "id": "57604238",
   "metadata": {},
   "outputs": [],
   "source": [
    "def max_subarray_sum_circular(nums):\n",
    "    max_sum = nums[0]\n",
    "    min_sum = nums[0]\n",
    "    current_max = nums[0]\n",
    "    current_min = nums[0]\n",
    "    total_sum = nums[0]\n",
    "\n",
    "    for i in range(1, len(nums)):\n",
    "        current_max = max(nums[i], current_max + nums[i])\n",
    "        current_min = min(nums[i], current_min + nums[i])\n",
    "        max_sum = max(max_sum, current_max)\n",
    "        min_sum = min(min_sum, current_min)\n",
    "        total_sum += nums[i]\n",
    "\n",
    "    if max_sum < 0:\n",
    "        return max_sum\n",
    "\n",
    "    return max(max_sum, total_sum - min_sum)\n"
   ]
  },
  {
   "cell_type": "code",
   "execution_count": 4,
   "id": "d8edc7f3",
   "metadata": {},
   "outputs": [
    {
     "name": "stdout",
     "output_type": "stream",
     "text": [
      "Maximum possible sum: 3\n"
     ]
    }
   ],
   "source": [
    "nums = [1, -2, 3, -2]\n",
    "max_sum = max_subarray_sum_circular(nums)\n",
    "print(\"Maximum possible sum:\", max_sum)\n"
   ]
  },
  {
   "cell_type": "raw",
   "id": "063e0e95",
   "metadata": {},
   "source": [
    "The school cafeteria offers circular and square sandwiches at lunch break, referred to by numbers `0` and `1` respectively. All students stand in a queue. Each student either prefers square or circular sandwiches.\n",
    "\n",
    "The number of sandwiches in the cafeteria is equal to the number of students. The sandwiches are placed in a **stack**. At each step:\n",
    "\n",
    "- If the student at the front of the queue **prefers** the sandwich on the top of the stack, they will **take it** and leave the queue.\n",
    "- Otherwise, they will **leave it** and go to the queue's end.\n",
    "\n",
    "This continues until none of the queue students want to take the top sandwich and are thus unable to eat.\n",
    "\n",
    "You are given two integer arrays `students` and `sandwiches` where `sandwiches[i]` is the type of the `ith` sandwich in the stack (`i = 0` is the top of the stack) and `students[j]` is the preference of the `jth` student in the initial queue (`j = 0` is the front of the queue). Return *the number of students that are unable to eat.*"
   ]
  },
  {
   "cell_type": "code",
   "execution_count": 5,
   "id": "44df7b37",
   "metadata": {},
   "outputs": [],
   "source": [
    "from queue import Queue\n",
    "\n",
    "def count_students_unable_to_eat(students, sandwiches):\n",
    "    student_queue = Queue()\n",
    "    sandwich_queue = Queue()\n",
    "\n",
    "    # Enqueue students' preferences\n",
    "    for student in students:\n",
    "        student_queue.put(student)\n",
    "\n",
    "    # Enqueue sandwich types\n",
    "    for sandwich in sandwiches:\n",
    "        sandwich_queue.put(sandwich)\n",
    "\n",
    "    while not student_queue.empty() and not sandwich_queue.empty():\n",
    "        student_preference = student_queue.get()\n",
    "        sandwich_type = sandwich_queue.get()\n",
    "\n",
    "        if student_preference == sandwich_type:\n",
    "            # Student takes the sandwich\n",
    "            continue\n",
    "        else:\n",
    "            # Student goes to the end of the queue\n",
    "            student_queue.put(student_preference)\n",
    "\n",
    "    return student_queue.qsize()\n"
   ]
  },
  {
   "cell_type": "code",
   "execution_count": 6,
   "id": "30f73421",
   "metadata": {},
   "outputs": [
    {
     "name": "stdout",
     "output_type": "stream",
     "text": [
      "Number of students unable to eat: 2\n"
     ]
    }
   ],
   "source": [
    "students = [1, 1, 0, 0]\n",
    "sandwiches = [0, 1, 0, 1]\n",
    "unable_to_eat = count_students_unable_to_eat(students, sandwiches)\n",
    "print(\"Number of students unable to eat:\", unable_to_eat)\n"
   ]
  },
  {
   "cell_type": "raw",
   "id": "2a87b1f7",
   "metadata": {},
   "source": [
    "You have a `RecentCounter` class which counts the number of recent requests within a certain time frame.\n",
    "\n",
    "Implement the `RecentCounter` class:\n",
    "\n",
    "- `RecentCounter()` Initializes the counter with zero recent requests.\n",
    "- `int ping(int t)` Adds a new request at time `t`, where `t` represents some time in milliseconds, and returns the number of requests that has happened in the past `3000` milliseconds (including the new request). Specifically, return the number of requests that have happened in the inclusive range `[t - 3000, t]`.\n",
    "\n",
    "It is **guaranteed** that every call to `ping` uses a strictly larger value of `t` than the previous call."
   ]
  },
  {
   "cell_type": "code",
   "execution_count": 7,
   "id": "72ec12f8",
   "metadata": {},
   "outputs": [],
   "source": [
    "from collections import deque\n",
    "\n",
    "class RecentCounter:\n",
    "    def __init__(self):\n",
    "        self.requests = deque()\n",
    "\n",
    "    def ping(self, t: int) -> int:\n",
    "        # Add the new request to the deque\n",
    "        self.requests.append(t)\n",
    "\n",
    "        # Remove the requests that are outside the time frame\n",
    "        while self.requests[0] < t - 3000:\n",
    "            self.requests.popleft()\n",
    "\n",
    "        # Return the number of requests in the time frame\n",
    "        return len(self.requests)\n"
   ]
  },
  {
   "cell_type": "code",
   "execution_count": 8,
   "id": "935a1698",
   "metadata": {},
   "outputs": [
    {
     "name": "stdout",
     "output_type": "stream",
     "text": [
      "1\n",
      "2\n",
      "3\n",
      "4\n",
      "5\n",
      "6\n",
      "7\n"
     ]
    }
   ],
   "source": [
    "rc = RecentCounter()\n",
    "print(rc.ping(100))  # Returns 1\n",
    "print(rc.ping(300))  # Returns 2\n",
    "print(rc.ping(600))  # Returns 3\n",
    "print(rc.ping(1000)) # Returns 4\n",
    "print(rc.ping(1500)) # Returns 4\n",
    "print(rc.ping(2000)) # Returns 4\n",
    "print(rc.ping(3000)) # Returns 7\n"
   ]
  },
  {
   "cell_type": "raw",
   "id": "fd59684a",
   "metadata": {},
   "source": [
    "There are `n` friends that are playing a game. The friends are sitting in a circle and are numbered from `1` to `n` in **clockwise order**. More formally, moving clockwise from the `ith` friend brings you to the `(i+1)th` friend for `1 <= i < n`, and moving clockwise from the `nth` friend brings you to the `1st` friend.\n",
    "\n",
    "The rules of the game are as follows:\n",
    "\n",
    "1. **Start** at the `1st` friend.\n",
    "2. Count the next `k` friends in the clockwise direction **including** the friend you started at. The counting wraps around the circle and may count some friends more than once.\n",
    "3. The last friend you counted leaves the circle and loses the game.\n",
    "4. If there is still more than one friend in the circle, go back to step `2` **starting** from the friend **immediately clockwise** of the friend who just lost and repeat.\n",
    "5. Else, the last friend in the circle wins the game.\n",
    "\n",
    "Given the number of friends, `n`, and an integer `k`, return *the winner of the game*."
   ]
  },
  {
   "cell_type": "code",
   "execution_count": 9,
   "id": "d6d477e5",
   "metadata": {},
   "outputs": [],
   "source": [
    "def find_the_winner(n, k):\n",
    "    friends = list(range(1, n + 1))\n",
    "    current = 0\n",
    "\n",
    "    while len(friends) > 1:\n",
    "        eliminated = (current + k - 1) % len(friends)\n",
    "        friends.pop(eliminated)\n",
    "        current = eliminated % len(friends)\n",
    "\n",
    "    return friends[0]\n"
   ]
  },
  {
   "cell_type": "code",
   "execution_count": 10,
   "id": "c1f83ba1",
   "metadata": {},
   "outputs": [
    {
     "name": "stdout",
     "output_type": "stream",
     "text": [
      "Winner: 3\n"
     ]
    }
   ],
   "source": [
    "n = 5\n",
    "k = 2\n",
    "winner = find_the_winner(n, k)\n",
    "print(\"Winner:\", winner)\n"
   ]
  },
  {
   "cell_type": "raw",
   "id": "fead5c1f",
   "metadata": {},
   "source": [
    "You are given an integer array `deck`. There is a deck of cards where every card has a unique integer. The integer on the `ith` card is `deck[i]`.\n",
    "\n",
    "You can order the deck in any order you want. Initially, all the cards start face down (unrevealed) in one deck.\n",
    "\n",
    "You will do the following steps repeatedly until all cards are revealed:\n",
    "\n",
    "1. Take the top card of the deck, reveal it, and take it out of the deck.\n",
    "2. If there are still cards in the deck then put the next top card of the deck at the bottom of the deck.\n",
    "3. If there are still unrevealed cards, go back to step 1. Otherwise, stop.\n",
    "\n",
    "Return *an ordering of the deck that would reveal the cards in increasing order*.\n",
    "\n",
    "**Note** that the first entry in the answer is considered to be the top of the deck."
   ]
  },
  {
   "cell_type": "code",
   "execution_count": 11,
   "id": "d05e2f80",
   "metadata": {},
   "outputs": [],
   "source": [
    "from collections import deque\n",
    "\n",
    "def reveal_cards_increasing_order(deck):\n",
    "    deck.sort()\n",
    "    result = deque()\n",
    "\n",
    "    for card in reversed(deck):\n",
    "        if result:\n",
    "            result.appendleft(result.pop())\n",
    "\n",
    "        result.appendleft(card)\n",
    "\n",
    "    return list(result)\n"
   ]
  },
  {
   "cell_type": "code",
   "execution_count": 12,
   "id": "b404c8cc",
   "metadata": {},
   "outputs": [
    {
     "name": "stdout",
     "output_type": "stream",
     "text": [
      "Ordering of revealed cards: [2, 13, 3, 11, 5, 17, 7]\n"
     ]
    }
   ],
   "source": [
    "deck = [17, 13, 11, 2, 3, 5, 7]\n",
    "ordering = reveal_cards_increasing_order(deck)\n",
    "print(\"Ordering of revealed cards:\", ordering)\n"
   ]
  },
  {
   "cell_type": "raw",
   "id": "83808d78",
   "metadata": {},
   "source": [
    "<aside>\n",
    "💡\n",
    "\n",
    "Design a queue that supports `push` and `pop` operations in the front, middle, and back.\n",
    "\n",
    "Implement the `FrontMiddleBack` class:\n",
    "\n",
    "- `FrontMiddleBack()` Initializes the queue.\n",
    "- `void pushFront(int val)` Adds `val` to the **front** of the queue.\n",
    "- `void pushMiddle(int val)` Adds `val` to the **middle** of the queue.\n",
    "- `void pushBack(int val)` Adds `val` to the **back** of the queue.\n",
    "- `int popFront()` Removes the **front** element of the queue and returns it. If the queue is empty, return `1`.\n",
    "- `int popMiddle()` Removes the **middle** element of the queue and returns it. If the queue is empty, return `1`.\n",
    "- `int popBack()` Removes the **back** element of the queue and returns it. If the queue is empty, return `1`.\n",
    "\n",
    "**Notice** that when there are **two** middle position choices, the operation is performed on the **frontmost** middle position choice. For example:\n",
    "\n",
    "- Pushing `6` into the middle of `[1, 2, 3, 4, 5]` results in `[1, 2, 6, 3, 4, 5]`.\n",
    "- Popping the middle from `[1, 2, 3, 4, 5, 6]` returns `3` and results in `[1, 2, 4, 5, 6]`.\n",
    "</aside>"
   ]
  },
  {
   "cell_type": "code",
   "execution_count": 13,
   "id": "35f9227d",
   "metadata": {},
   "outputs": [],
   "source": [
    "from collections import deque\n",
    "\n",
    "class FrontMiddleBack:\n",
    "    def __init__(self):\n",
    "        self.front = deque()\n",
    "        self.back = deque()\n",
    "\n",
    "    def pushFront(self, val: int) -> None:\n",
    "        self.front.appendleft(val)\n",
    "        self._balance()\n",
    "\n",
    "    def pushMiddle(self, val: int) -> None:\n",
    "        if len(self.front) > len(self.back):\n",
    "            self.back.appendleft(self.front.pop())\n",
    "        self.front.append(val)\n",
    "\n",
    "    def pushBack(self, val: int) -> None:\n",
    "        self.back.append(val)\n",
    "        self._balance()\n",
    "\n",
    "    def popFront(self) -> int:\n",
    "        if not self.front and not self.back:\n",
    "            return -1\n",
    "\n",
    "        if self.front:\n",
    "            return self.front.popleft()\n",
    "\n",
    "        val = self.back.popleft()\n",
    "        self._balance()\n",
    "        return val\n",
    "\n",
    "    def popMiddle(self) -> int:\n",
    "        if not self.front and not self.back:\n",
    "            return -1\n",
    "\n",
    "        if len(self.front) > len(self.back):\n",
    "            return self.front.pop()\n",
    "        return self.back.popleft()\n",
    "\n",
    "    def popBack(self) -> int:\n",
    "        if not self.front and not self.back:\n",
    "            return -1\n",
    "\n",
    "        if self.back:\n",
    "            return self.back.pop()\n",
    "\n",
    "        val = self.front.pop()\n",
    "        self._balance()\n",
    "        return val\n",
    "\n",
    "    def _balance(self):\n",
    "        while len(self.front) > len(self.back) + 1:\n",
    "            self.back.appendleft(self.front.pop())\n",
    "\n",
    "        while len(self.back) > len(self.front):\n",
    "            self.front.append(self.back.popleft())\n"
   ]
  },
  {
   "cell_type": "code",
   "execution_count": 14,
   "id": "e330376c",
   "metadata": {},
   "outputs": [
    {
     "name": "stdout",
     "output_type": "stream",
     "text": [
      "1\n",
      "2\n",
      "3\n"
     ]
    }
   ],
   "source": [
    "queue = FrontMiddleBack()\n",
    "queue.pushFront(1)\n",
    "queue.pushBack(2)\n",
    "queue.pushMiddle(3)\n",
    "print(queue.popFront())  # Returns 1\n",
    "print(queue.popMiddle())  # Returns 3\n",
    "print(queue.popBack())  # Returns 2\n"
   ]
  },
  {
   "cell_type": "raw",
   "id": "1ffa84ec",
   "metadata": {},
   "source": [
    "For a stream of integers, implement a data structure that checks if the last `k` integers parsed in the stream are **equal** to `value`.\n",
    "\n",
    "Implement the **DataStream** class:\n",
    "\n",
    "- `DataStream(int value, int k)` Initializes the object with an empty integer stream and the two integers `value` and `k`.\n",
    "- `boolean consec(int num)` Adds `num` to the stream of integers. Returns `true` if the last `k` integers are equal to `value`, and `false` otherwise. If there are less than `k` integers, the condition does not hold true, so returns `false`."
   ]
  },
  {
   "cell_type": "code",
   "execution_count": 15,
   "id": "91836e83",
   "metadata": {},
   "outputs": [],
   "source": [
    "from collections import deque\n",
    "\n",
    "class DataStream:\n",
    "    def __init__(self, value: int, k: int):\n",
    "        self.stream = deque()\n",
    "        self.value = value\n",
    "        self.k = k\n",
    "\n",
    "    def consec(self, num: int) -> bool:\n",
    "        self.stream.append(num)\n",
    "\n",
    "        if len(self.stream) < self.k:\n",
    "            return False\n",
    "\n",
    "        return list(self.stream)[-self.k:] == [self.value] * self.k\n"
   ]
  },
  {
   "cell_type": "code",
   "execution_count": 16,
   "id": "68c40cc6",
   "metadata": {},
   "outputs": [
    {
     "name": "stdout",
     "output_type": "stream",
     "text": [
      "False\n",
      "False\n",
      "False\n",
      "False\n",
      "True\n"
     ]
    }
   ],
   "source": [
    "ds = DataStream(3, 4)\n",
    "print(ds.consec(1))  # Returns False\n",
    "print(ds.consec(3))  # Returns False\n",
    "print(ds.consec(3))  # Returns False\n",
    "print(ds.consec(3))  # Returns False\n",
    "print(ds.consec(3))  # Returns True\n"
   ]
  },
  {
   "cell_type": "code",
   "execution_count": null,
   "id": "9fbc7964",
   "metadata": {},
   "outputs": [],
   "source": []
  }
 ],
 "metadata": {
  "kernelspec": {
   "display_name": "Python 3 (ipykernel)",
   "language": "python",
   "name": "python3"
  },
  "language_info": {
   "codemirror_mode": {
    "name": "ipython",
    "version": 3
   },
   "file_extension": ".py",
   "mimetype": "text/x-python",
   "name": "python",
   "nbconvert_exporter": "python",
   "pygments_lexer": "ipython3",
   "version": "3.9.12"
  }
 },
 "nbformat": 4,
 "nbformat_minor": 5
}
