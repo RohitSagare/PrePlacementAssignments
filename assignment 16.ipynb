{
 "cells": [
  {
   "cell_type": "raw",
   "id": "082d0b32",
   "metadata": {},
   "source": [
    "Given an array, for each element find the value of the nearest element to the right which is having a frequency greater than that of the current element. If there does not exist an answer for a position, then make the value ‘-1’."
   ]
  },
  {
   "cell_type": "code",
   "execution_count": 1,
   "id": "7a024044",
   "metadata": {},
   "outputs": [],
   "source": [
    "def find_nearest_element_with_higher_frequency(arr):\n",
    "    frequency = {}\n",
    "    stack = []\n",
    "    result = [-1] * len(arr)\n",
    "\n",
    "    for i in range(len(arr) - 1, -1, -1):\n",
    "        while stack and frequency.get(stack[-1]) <= frequency.get(arr[i]):\n",
    "            stack.pop()\n",
    "\n",
    "        if stack:\n",
    "            result[i] = stack[-1]\n",
    "\n",
    "        stack.append(arr[i])\n",
    "        frequency[arr[i]] = frequency.get(arr[i], 0) + 1\n",
    "\n",
    "    return result\n"
   ]
  },
  {
   "cell_type": "code",
   "execution_count": null,
   "id": "307a633a",
   "metadata": {},
   "outputs": [],
   "source": [
    "arr = [4, 5, 2, 25, 4, 4, 2, 5]\n",
    "result = find_nearest_element_with_higher_frequency(arr)\n",
    "print(\"Nearest elements with higher frequency:\", result)\n",
    "\n"
   ]
  },
  {
   "cell_type": "code",
   "execution_count": null,
   "id": "f737e9a2",
   "metadata": {},
   "outputs": [],
   "source": []
  },
  {
   "cell_type": "code",
   "execution_count": 3,
   "id": "cdc1cd58",
   "metadata": {},
   "outputs": [],
   "source": [
    "def sort_stack(stack):\n",
    "    temp_stack = []\n",
    "\n",
    "    while stack:\n",
    "        temp = stack.pop()\n",
    "\n",
    "        while temp_stack and temp_stack[-1] > temp:\n",
    "            stack.append(temp_stack.pop())\n",
    "\n",
    "        temp_stack.append(temp)\n",
    "\n",
    "    # Reverse the order of elements in the temp_stack\n",
    "    while temp_stack:\n",
    "        stack.append(temp_stack.pop())\n",
    "\n",
    "    return stack\n"
   ]
  },
  {
   "cell_type": "code",
   "execution_count": 4,
   "id": "49ad6261",
   "metadata": {},
   "outputs": [
    {
     "name": "stdout",
     "output_type": "stream",
     "text": [
      "Sorted stack: [98, 92, 34, 31, 23, 3]\n"
     ]
    }
   ],
   "source": [
    "stack = [34, 3, 31, 98, 92, 23]\n",
    "sorted_stack = sort_stack(stack)\n",
    "print(\"Sorted stack:\", sorted_stack)\n"
   ]
  },
  {
   "cell_type": "raw",
   "id": "66608323",
   "metadata": {},
   "source": [
    "Given a stack with **push()**, **pop()**, and **empty()** operations, The task is to delete the **middle** element ****of it without using any additional data structure.\n",
    "\n",
    "Input  : Stack[] = [1, 2, 3, 4, 5]\n",
    "\n",
    "Output : Stack[] = [1, 2, 4, 5]\n",
    "\n",
    "Input  : Stack[] = [1, 2, 3, 4, 5, 6]\n",
    "\n",
    "Output : Stack[] = [1, 2, 4, 5, 6]"
   ]
  },
  {
   "cell_type": "code",
   "execution_count": 6,
   "id": "90b94a01",
   "metadata": {},
   "outputs": [
    {
     "name": "stdout",
     "output_type": "stream",
     "text": [
      "Stack after deleting middle element: [1]\n"
     ]
    }
   ],
   "source": [
    "def delete_middle(stack):\n",
    "    if len(stack) <= 1:\n",
    "        return\n",
    "\n",
    "    temp = stack.pop()\n",
    "    delete_middle(stack)\n",
    "\n",
    "    size = len(stack)\n",
    "    if size % 2 == 0:\n",
    "        stack.append(temp)\n",
    "\n",
    "# Example usage\n",
    "stack = [1, 2, 3, 4, 5]\n",
    "delete_middle(stack)\n",
    "print(\"Stack after deleting middle element:\", stack)\n"
   ]
  },
  {
   "cell_type": "raw",
   "id": "5fef8ce5",
   "metadata": {},
   "source": [
    "Given a Queue consisting of first **n** natural numbers (in random order). The task is to check whether the given Queue elements can be arranged in increasing order in another Queue using a stack. The operation allowed are:\n",
    "\n",
    "1. Push and pop elements from the stack\n",
    "2. Pop (Or Dequeue) from the given Queue.\n",
    "3. Push (Or Enqueue) in the another Queue."
   ]
  },
  {
   "cell_type": "code",
   "execution_count": 7,
   "id": "fafca115",
   "metadata": {},
   "outputs": [],
   "source": [
    "def check_increasing_order(queue):\n",
    "    stack = []\n",
    "    other_queue = []\n",
    "    expected = 1\n",
    "\n",
    "    while queue:\n",
    "        if queue[0] == expected:\n",
    "            queue.pop(0)\n",
    "            expected += 1\n",
    "        elif stack and stack[-1] == expected:\n",
    "            stack.pop()\n",
    "            expected += 1\n",
    "        else:\n",
    "            other_queue.append(queue.pop(0))\n",
    "\n",
    "    while stack:\n",
    "        if stack[-1] == expected:\n",
    "            stack.pop()\n",
    "            expected += 1\n",
    "        else:\n",
    "            return False\n",
    "\n",
    "    return not queue and not other_queue\n"
   ]
  },
  {
   "cell_type": "code",
   "execution_count": 8,
   "id": "40f4b8de",
   "metadata": {},
   "outputs": [
    {
     "name": "stdout",
     "output_type": "stream",
     "text": [
      "Elements can be arranged in increasing order: False\n"
     ]
    }
   ],
   "source": [
    "queue = [3, 1, 2, 4]\n",
    "result = check_increasing_order(queue)\n",
    "print(\"Elements can be arranged in increasing order:\", result)\n"
   ]
  },
  {
   "cell_type": "raw",
   "id": "f276542c",
   "metadata": {},
   "source": [
    "Given a number , write a program to reverse this number using stack."
   ]
  },
  {
   "cell_type": "code",
   "execution_count": 9,
   "id": "29b0971e",
   "metadata": {},
   "outputs": [],
   "source": [
    "def reverse_number(number):\n",
    "    number_str = str(number)\n",
    "    stack = []\n",
    "\n",
    "    for char in number_str:\n",
    "        stack.append(char)\n",
    "\n",
    "    reversed_num = \"\"\n",
    "\n",
    "    while stack:\n",
    "        reversed_num += stack.pop()\n",
    "\n",
    "    return int(reversed_num)\n"
   ]
  },
  {
   "cell_type": "code",
   "execution_count": 10,
   "id": "46881d03",
   "metadata": {},
   "outputs": [
    {
     "name": "stdout",
     "output_type": "stream",
     "text": [
      "Reversed number: 54321\n"
     ]
    }
   ],
   "source": [
    "number = 12345\n",
    "reversed_number = reverse_number(number)\n",
    "print(\"Reversed number:\", reversed_number)\n"
   ]
  },
  {
   "cell_type": "code",
   "execution_count": null,
   "id": "a93bdb66",
   "metadata": {},
   "outputs": [],
   "source": []
  },
  {
   "cell_type": "code",
   "execution_count": 11,
   "id": "f6829878",
   "metadata": {},
   "outputs": [],
   "source": [
    "from queue import Queue\n",
    "\n",
    "def reverse_k_elements(queue, k):\n",
    "    stack = []\n",
    "    temp_queue = Queue()\n",
    "\n",
    "    # Dequeue the first k elements and push them onto the stack\n",
    "    for _ in range(k):\n",
    "        stack.append(queue.get())\n",
    "\n",
    "    # Enqueue the remaining elements into the temporary queue\n",
    "    while not queue.empty():\n",
    "        temp_queue.put(queue.get())\n",
    "\n",
    "    # Enqueue elements from the stack into the temporary queue\n",
    "    while stack:\n",
    "        temp_queue.put(stack.pop())\n",
    "\n",
    "    # Enqueue elements from the temporary queue back into the original queue\n",
    "    while not temp_queue.empty():\n",
    "        queue.put(temp_queue.get())\n",
    "\n",
    "    return queue\n"
   ]
  },
  {
   "cell_type": "code",
   "execution_count": 12,
   "id": "41391ba9",
   "metadata": {},
   "outputs": [
    {
     "name": "stdout",
     "output_type": "stream",
     "text": [
      "4\n",
      "5\n",
      "3\n",
      "2\n",
      "1\n"
     ]
    }
   ],
   "source": [
    "queue = Queue()\n",
    "queue.put(1)\n",
    "queue.put(2)\n",
    "queue.put(3)\n",
    "queue.put(4)\n",
    "queue.put(5)\n",
    "\n",
    "k = 3\n",
    "\n",
    "reversed_queue = reverse_k_elements(queue, k)\n",
    "\n",
    "# Print the modified queue\n",
    "while not reversed_queue.empty():\n",
    "    print(reversed_queue.get())\n"
   ]
  },
  {
   "cell_type": "raw",
   "id": "56972d73",
   "metadata": {},
   "source": [
    "Given a sequence of n strings, the task is to check if any two similar words come together and then destroy each other then print the number of words left in the sequence after this pairwise destruction.\n",
    "\n",
    "**Examples:**\n",
    "\n",
    "Input : ab aa aa bcd ab\n",
    "\n",
    "Output : 3\n",
    "\n",
    "*As aa, aa destroys each other so,*\n",
    "\n",
    "*ab bcd ab is the new sequence.*\n",
    "\n",
    "Input :  tom jerry jerry tom\n",
    "\n",
    "Output : 0\n",
    "\n",
    "*As first both jerry will destroy each other.*\n",
    "\n",
    "*Then sequence will be tom, tom they will also destroy*\n",
    "\n",
    "*each other. So, the final sequence doesn’t contain any*"
   ]
  },
  {
   "cell_type": "code",
   "execution_count": 13,
   "id": "62c0778b",
   "metadata": {},
   "outputs": [],
   "source": [
    "def count_words_after_destruction(sequence):\n",
    "    stack = []\n",
    "\n",
    "    for word in sequence:\n",
    "        if stack and stack[-1] == word:\n",
    "            stack.pop()\n",
    "        else:\n",
    "            stack.append(word)\n",
    "\n",
    "    return len(stack)\n"
   ]
  },
  {
   "cell_type": "code",
   "execution_count": 14,
   "id": "d512392d",
   "metadata": {},
   "outputs": [
    {
     "name": "stdout",
     "output_type": "stream",
     "text": [
      "Number of words left: 3\n"
     ]
    }
   ],
   "source": [
    "sequence = ['ab', 'aa', 'aa', 'bcd', 'ab']\n",
    "remaining_words = count_words_after_destruction(sequence)\n",
    "print(\"Number of words left:\", remaining_words)\n"
   ]
  },
  {
   "cell_type": "raw",
   "id": "1895e40e",
   "metadata": {},
   "source": [
    "Given an array of integers, the task is to find the maximum absolute difference between the nearest left and the right smaller element of every element in the array.\n",
    "\n",
    "**Note:** If there is no smaller element on right side or left side of any element then we take zero as the smaller element. For example for the leftmost element, the nearest smaller element on the left side is considered as 0. Similarly, for rightmost elements, the smaller element on the right side is considered as 0."
   ]
  },
  {
   "cell_type": "code",
   "execution_count": 15,
   "id": "a7854569",
   "metadata": {},
   "outputs": [],
   "source": [
    "def max_absolute_difference(arr):\n",
    "    stack = []\n",
    "    left_smaller = [0] * len(arr)\n",
    "    right_smaller = [0] * len(arr)\n",
    "\n",
    "    # Find Next Smaller Element on the left (NSE-left)\n",
    "    for i in range(len(arr)):\n",
    "        while stack and arr[stack[-1]] >= arr[i]:\n",
    "            stack.pop()\n",
    "\n",
    "        if stack:\n",
    "            left_smaller[i] = stack[-1]\n",
    "\n",
    "        stack.append(i)\n",
    "\n",
    "    while stack:\n",
    "        stack.pop()\n",
    "\n",
    "    # Find Next Smaller Element on the right (NSE-right)\n",
    "    for i in range(len(arr) - 1, -1, -1):\n",
    "        while stack and arr[stack[-1]] >= arr[i]:\n",
    "            stack.pop()\n",
    "\n",
    "        if stack:\n",
    "            right_smaller[i] = stack[-1]\n",
    "\n",
    "        stack.append(i)\n",
    "\n",
    "    max_diff = 0\n",
    "\n",
    "    for i in range(len(arr)):\n",
    "        diff = abs(left_smaller[i] - right_smaller[i])\n",
    "        max_diff = max(max_diff, diff)\n",
    "\n",
    "    return max_diff\n"
   ]
  },
  {
   "cell_type": "code",
   "execution_count": 16,
   "id": "a8507c0e",
   "metadata": {},
   "outputs": [
    {
     "name": "stdout",
     "output_type": "stream",
     "text": [
      "Maximum absolute difference: 4\n"
     ]
    }
   ],
   "source": [
    "arr = [2, 1, 8, 7, 6, 5]\n",
    "max_diff = max_absolute_difference(arr)\n",
    "print(\"Maximum absolute difference:\", max_diff)\n"
   ]
  },
  {
   "cell_type": "code",
   "execution_count": null,
   "id": "18ac8f5e",
   "metadata": {},
   "outputs": [],
   "source": []
  }
 ],
 "metadata": {
  "kernelspec": {
   "display_name": "Python 3 (ipykernel)",
   "language": "python",
   "name": "python3"
  },
  "language_info": {
   "codemirror_mode": {
    "name": "ipython",
    "version": 3
   },
   "file_extension": ".py",
   "mimetype": "text/x-python",
   "name": "python",
   "nbconvert_exporter": "python",
   "pygments_lexer": "ipython3",
   "version": "3.9.12"
  }
 },
 "nbformat": 4,
 "nbformat_minor": 5
}
